{
 "cells": [
  {
   "cell_type": "code",
   "execution_count": 8,
   "metadata": {},
   "outputs": [
    {
     "name": "stderr",
     "output_type": "stream",
     "text": [
      "Neither CUDA nor MPS are available - defaulting to CPU. Note: This module is much faster with a GPU.\n",
      "Downloading detection model, please wait. This may take several minutes depending upon your network connection.\n"
     ]
    },
    {
     "name": "stdout",
     "output_type": "stream",
     "text": [
      "Progress: |██████████████████████████████████████████████████| 100.0% Complete"
     ]
    },
    {
     "name": "stderr",
     "output_type": "stream",
     "text": [
      "Downloading recognition model, please wait. This may take several minutes depending upon your network connection.\n"
     ]
    },
    {
     "name": "stdout",
     "output_type": "stream",
     "text": [
      "Progress: |██████████████████████████████████████████████████| 100.0% CompleteExtracted text from Screenshot 2025-03-04 at 12.29.48.png:\n",
      "Edai 20M1lZ Aclara: SCMi412-8 oudlel TOU Rate recoh 17013 kwh Dnv0s Iq1OJiA S0Hz 2020   JKB 001024020118CAOC\n",
      "--------------------------------------------------\n",
      "Extracted text from Screenshot 2025-03-04 at 12.30.45.png:\n",
      "^4 Landls_ E470 Herdtealiet Lid AtcueFL5 & B U TotaL Acl Imtorl 45 76Lw4 Tp/kWh CIB 7C153 0+521 I000 (n-Sn L8C0L6 100a Z30v 50hz Caida-vi P5? Property Kacquarie Entro 255 BGSMLL02430780 0120/5G50226 Cemi8 0120 FLAT 501 Soi 56\"0\n",
      "--------------------------------------------------\n"
     ]
    }
   ],
   "source": [
    "import easyocr\n",
    "import cv2\n",
    "import os\n",
    "\n",
    "# Initialize the EasyOCR reader\n",
    "reader = easyocr.Reader(['en'])\n",
    "\n",
    "# Directory containing images\n",
    "image_dir = 'data'\n",
    "\n",
    "def extract_text(image_path):\n",
    "    # Read the image using OpenCV\n",
    "    image = cv2.imread(image_path)\n",
    "    # Perform OCR using EasyOCR\n",
    "    result = reader.readtext(image)\n",
    "    # Combine the detected text into a single string\n",
    "    text = ' '.join([item[1] for item in result])\n",
    "    return text\n",
    "\n",
    "# Iterate over all images in the directory\n",
    "for filename in os.listdir(image_dir):\n",
    "    if filename.lower().endswith(('.png', '.jpg', '.jpeg', '.tiff', '.bmp', '.gif')):\n",
    "        img_path = os.path.join(image_dir, filename)\n",
    "        extracted_text = extract_text(img_path)\n",
    "        print(f\"Extracted text from {filename}:\")\n",
    "        print(extracted_text)\n",
    "        print(\"-\" * 50)\n"
   ]
  },
  {
   "cell_type": "markdown",
   "metadata": {},
   "source": [
    "Try 2"
   ]
  },
  {
   "cell_type": "code",
   "execution_count": 10,
   "metadata": {},
   "outputs": [
    {
     "name": "stderr",
     "output_type": "stream",
     "text": [
      "Neither CUDA nor MPS are available - defaulting to CPU. Note: This module is much faster with a GPU.\n"
     ]
    },
    {
     "name": "stdout",
     "output_type": "stream",
     "text": [
      "Meter reading from Screenshot 2025-03-04 at 12.29.48.png: Meter reading not found\n",
      "Meter reading from Screenshot 2025-03-04 at 12.30.45.png: Meter reading not found\n"
     ]
    }
   ],
   "source": [
    "import os\n",
    "import re\n",
    "import cv2\n",
    "import numpy as np\n",
    "import easyocr\n",
    "\n",
    "# Initialize the EasyOCR reader\n",
    "reader = easyocr.Reader(['en'])\n",
    "\n",
    "# Directory containing images\n",
    "image_dir = 'data'\n",
    "\n",
    "def preprocess_image(image_path):\n",
    "    # Read the image\n",
    "    image = cv2.imread(image_path, cv2.IMREAD_COLOR)\n",
    "    gray = cv2.cvtColor(image, cv2.COLOR_BGR2GRAY)\n",
    "    \n",
    "    # Apply CLAHE (Contrast Limited Adaptive Histogram Equalization)\n",
    "    clahe = cv2.createCLAHE(clipLimit=3.0, tileGridSize=(8,8))\n",
    "    enhanced = clahe.apply(gray)\n",
    "    \n",
    "    # Apply adaptive thresholding with a larger block size\n",
    "    processed = cv2.adaptiveThreshold(enhanced, 255, cv2.ADAPTIVE_THRESH_GAUSSIAN_C,\n",
    "                                      cv2.THRESH_BINARY_INV, 21, 10)\n",
    "    \n",
    "    return processed\n",
    "\n",
    "def extract_meter_reading(image_path):\n",
    "    processed_image = preprocess_image(image_path)\n",
    "    # Perform OCR with EasyOCR, allowing only numbers and 'kWh'\n",
    "    result = reader.readtext(processed_image, allowlist='0123456789.kWh')\n",
    "    # Combine detected text into a single string\n",
    "    full_text = ' '.join([text for _, text, _ in result])\n",
    "    # Use regex to find the number preceding 'kWh'\n",
    "    match = re.search(r'(\\d+\\.?\\d*)\\s*kWh', full_text)\n",
    "    if match:\n",
    "        return match.group(1)\n",
    "    else:\n",
    "        return \"Meter reading not found\"\n",
    "\n",
    "# Iterate over all images in the directory\n",
    "for filename in os.listdir(image_dir):\n",
    "    if filename.lower().endswith(('.png', '.jpg', '.jpeg', '.tiff', '.bmp', '.gif')):\n",
    "        img_path = os.path.join(image_dir, filename)\n",
    "        meter_reading = extract_meter_reading(img_path)\n",
    "        print(f\"Meter reading from {filename}: {meter_reading}\")\n"
   ]
  },
  {
   "cell_type": "code",
   "execution_count": null,
   "metadata": {},
   "outputs": [],
   "source": []
  }
 ],
 "metadata": {
  "kernelspec": {
   "display_name": "hydro_head_ml",
   "language": "python",
   "name": "python3"
  },
  "language_info": {
   "codemirror_mode": {
    "name": "ipython",
    "version": 3
   },
   "file_extension": ".py",
   "mimetype": "text/x-python",
   "name": "python",
   "nbconvert_exporter": "python",
   "pygments_lexer": "ipython3",
   "version": "3.10.16"
  }
 },
 "nbformat": 4,
 "nbformat_minor": 2
}
